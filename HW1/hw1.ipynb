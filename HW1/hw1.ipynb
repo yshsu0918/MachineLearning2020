{
 "cells": [
  {
   "cell_type": "code",
   "execution_count": 26,
   "metadata": {},
   "outputs": [
    {
     "name": "stdout",
     "output_type": "stream",
     "text": [
      "Problem a\n",
      "beta0 = 32.142711644500494, beta1 = -0.3188642859705657\n",
      "Problem d\n",
      "beta0 beta1 beta2 are: \n",
      "[[-20.36081647]\n",
      " [ 14.34441037]\n",
      " [ -0.3045853 ]]\n",
      "R-square:  0.8200728991486963\n"
     ]
    },
    {
     "data": {
      "image/png": "[encoded data removed]",
      "text/plain": [
       "<Figure size 432x288 with 1 Axes>"
      ]
     },
     "metadata": {
      "needs_background": "light"
     },
     "output_type": "display_data"
    }
   ],
   "source": [
    "%matplotlib inline  \n",
    " \n",
    "import csv\n",
    "import numpy as np\n",
    "import matplotlib.pyplot as plt\n",
    "import math\n",
    "\n",
    "\n",
    "# y = ax + b\n",
    "def Question_a(x,y):\n",
    "    print('Problem a')\n",
    "    xbar = np.mean(x)\n",
    "    ybar = np.mean(y)\n",
    "\n",
    "    dx = x - xbar\n",
    "    dy = y - ybar\n",
    "\n",
    "    a = np.sum(dx*dy) / np.sum(dx*dx)\n",
    "    b = ybar - a*xbar\n",
    "    print('beta0 = {}, beta1 = {}'.format(b,a))\n",
    "    X = np.arange(np.min(x), np.max(x), 0.1)\n",
    "    Y = a*X+b\n",
    "    plt.plot(X,Y)\n",
    "\n",
    "    #plt.show()\n",
    "\n",
    "def Question_d(x1,x2,y):\n",
    "    print('Problem d')\n",
    "    X0 = np.array([1]*len(x1))\n",
    "    X0 = X0[:,np.newaxis]\n",
    "    X1 = x1[:,np.newaxis]\n",
    "    X2 = x2[:,np.newaxis]\n",
    "    #print(X0.shape)\n",
    "    #print(X1.shape)\n",
    "    #print(X2.shape)\n",
    "    X = np.hstack( [X0,X1,X2] )\n",
    "    #print(X.shape)\n",
    "    Y = y[:, np.newaxis]\n",
    "    #print(Y.shape)\n",
    "    B = np.linalg.inv( np.dot(X.T,X) ).dot(X.T)\n",
    "    #print(B.shape)\n",
    "    B=B.dot(Y)\n",
    "    #print(B.shape)\n",
    "    print('beta0 beta1 beta2 are: ')\n",
    "    print(B)\n",
    "\n",
    "    ybar = np.mean(y)\n",
    "    \n",
    "    SSres = np.sum( (X.dot(B)-ybar)*(X.dot(B)-ybar) ) \n",
    "    SStot = np.sum( (y-ybar)*(y-ybar) )\n",
    "    print(\"R-square: \", 1-SSres/SStot)\n",
    "\n",
    "\n",
    "\n",
    "if __name__ == \"__main__\":\n",
    "    with open('MEAP93.csv', newline='') as csvfile:\n",
    "        # 讀取 CSV 檔內容，將每一列轉成一個 dictionary\n",
    "        rows = csv.DictReader(csvfile)\n",
    "\n",
    "        mathten = []\n",
    "        lnchprg = []\n",
    "        log_expend = []\n",
    "        for row in rows:\n",
    "            mathten.append(float(row['math10']))\n",
    "            lnchprg.append(float(row['lnchprg']))\n",
    "            log_expend.append(math.log(float(row['expend']),10))\n",
    "\n",
    "    plt.plot(lnchprg,mathten,'o')\n",
    "\n",
    "    x2 = np.array(lnchprg)\n",
    "    x1 = np.array(log_expend)\n",
    "    y = np.array(mathten)\n",
    "    Question_a(x2,y)\n",
    "    Question_d(x1,x2,y)\n",
    "\n",
    "# from scipy import stats\n",
    "# slope, intercept, r_value, p_value, std_err = stats.linregress(x, y)\n",
    "# plt.plot(x, y, 'o', label='original data')\n",
    "# plt.plot(x, intercept + slope*x, 'r', label='fitted line')\n",
    "\n"
   ]
  }
 ],
 "metadata": {
  "kernelspec": {
   "display_name": "Python 3",
   "language": "python",
   "name": "python3"
  },
  "language_info": {
   "codemirror_mode": {
    "name": "ipython",
    "version": 3
   },
   "file_extension": ".py",
   "mimetype": "text/x-python",
   "name": "python",
   "nbconvert_exporter": "python",
   "pygments_lexer": "ipython3",
   "version": "3.7.6"
  }
 },
 "nbformat": 4,
 "nbformat_minor": 4
}
